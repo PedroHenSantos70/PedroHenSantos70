{
 "cells": [
  {
   "cell_type": "code",
   "execution_count": 1,
   "id": "28ed3917",
   "metadata": {},
   "outputs": [],
   "source": [
    "import pandas as pd \n",
    "import matplotlib.pyplot as plt\n",
    "import seaborn as sns"
   ]
  },
  {
   "cell_type": "code",
   "execution_count": 2,
   "id": "88e56599",
   "metadata": {},
   "outputs": [],
   "source": [
    "arquivo_leitura = pd.read_csv(\"C:/Users/Pedro Santos/OneDrive - SKA AUTOMACAO DE ENGENHARIAS LTDA/Área de Trabalho/TesteGIT/DataEcommerce.csv\", encoding='ISO-8859-1')"
   ]
  },
  {
   "cell_type": "code",
   "execution_count": null,
   "id": "d66b90b8",
   "metadata": {},
   "outputs": [],
   "source": [
    "arquivo_leitura.head()"
   ]
  },
  {
   "cell_type": "code",
   "execution_count": null,
   "id": "f985b274",
   "metadata": {},
   "outputs": [],
   "source": [
    "arquivo_leitura.isna().sum()"
   ]
  },
  {
   "cell_type": "code",
   "execution_count": null,
   "id": "5dd3c2bc",
   "metadata": {},
   "outputs": [],
   "source": [
    "moda = arquivo_leitura['CustomerID'].value_counts().index[0]"
   ]
  },
  {
   "cell_type": "code",
   "execution_count": null,
   "id": "4a5e3105",
   "metadata": {},
   "outputs": [],
   "source": [
    "print(moda)"
   ]
  },
  {
   "cell_type": "code",
   "execution_count": null,
   "id": "7d218f89",
   "metadata": {},
   "outputs": [],
   "source": [
    "teste = arquivo_leitura [arquivo_leitura['StockCode']== '85123A']"
   ]
  },
  {
   "cell_type": "code",
   "execution_count": null,
   "id": "4ad6d982",
   "metadata": {},
   "outputs": [],
   "source": [
    "teste"
   ]
  },
  {
   "cell_type": "code",
   "execution_count": null,
   "id": "97dd48d2",
   "metadata": {},
   "outputs": [],
   "source": [
    "teste2 = arquivo_leitura [arquivo_leitura['StockCode']== '71053']"
   ]
  },
  {
   "cell_type": "code",
   "execution_count": null,
   "id": "35bdfe5b",
   "metadata": {},
   "outputs": [],
   "source": [
    "teste2"
   ]
  },
  {
   "cell_type": "code",
   "execution_count": 3,
   "id": "6974c89f",
   "metadata": {},
   "outputs": [],
   "source": [
    "df_limpo = arquivo_leitura.dropna(subset=['Description'])  #Limpando dados em branco na coluna description"
   ]
  },
  {
   "cell_type": "code",
   "execution_count": null,
   "id": "21fcec73",
   "metadata": {},
   "outputs": [],
   "source": [
    "arquivo_leitura.isna().sum()"
   ]
  },
  {
   "cell_type": "code",
   "execution_count": 4,
   "id": "4066e92d",
   "metadata": {},
   "outputs": [
    {
     "data": {
      "text/plain": [
       "InvoiceNo           0\n",
       "StockCode           0\n",
       "Description         0\n",
       "Quantity            0\n",
       "InvoiceDate         0\n",
       "UnitPrice           0\n",
       "CustomerID     133626\n",
       "Country             0\n",
       "dtype: int64"
      ]
     },
     "execution_count": 4,
     "metadata": {},
     "output_type": "execute_result"
    }
   ],
   "source": [
    "df_limpo.isna().sum()"
   ]
  },
  {
   "cell_type": "code",
   "execution_count": null,
   "id": "2dc5397b",
   "metadata": {},
   "outputs": [],
   "source": [
    "identificar_null = df_limpo[df_limpo['CustomerID'].isnull()]"
   ]
  },
  {
   "cell_type": "code",
   "execution_count": null,
   "id": "e883b763",
   "metadata": {},
   "outputs": [],
   "source": [
    "identificar_null"
   ]
  },
  {
   "cell_type": "code",
   "execution_count": null,
   "id": "f8cb9113",
   "metadata": {},
   "outputs": [],
   "source": [
    "paises_diferentes = identificar_null [identificar_null['Country'] != 'United Kingdom']"
   ]
  },
  {
   "cell_type": "code",
   "execution_count": null,
   "id": "62957a5f",
   "metadata": {},
   "outputs": [],
   "source": [
    "paises_diferentes"
   ]
  },
  {
   "cell_type": "code",
   "execution_count": 5,
   "id": "bb487c83",
   "metadata": {},
   "outputs": [],
   "source": [
    "df_limpo = df_limpo.dropna(subset=['CustomerID'])"
   ]
  },
  {
   "cell_type": "code",
   "execution_count": 6,
   "id": "2191cfbe",
   "metadata": {},
   "outputs": [
    {
     "data": {
      "text/plain": [
       "InvoiceNo      0\n",
       "StockCode      0\n",
       "Description    0\n",
       "Quantity       0\n",
       "InvoiceDate    0\n",
       "UnitPrice      0\n",
       "CustomerID     0\n",
       "Country        0\n",
       "dtype: int64"
      ]
     },
     "execution_count": 6,
     "metadata": {},
     "output_type": "execute_result"
    }
   ],
   "source": [
    "df_limpo.isna().sum()"
   ]
  },
  {
   "cell_type": "code",
   "execution_count": null,
   "id": "3b90b9c5",
   "metadata": {},
   "outputs": [],
   "source": [
    "df_limpo.describe()"
   ]
  },
  {
   "cell_type": "code",
   "execution_count": null,
   "id": "af6f36c9",
   "metadata": {},
   "outputs": [],
   "source": [
    "valormin = df_limpo [df_limpo['Quantity']== -80995.000000]"
   ]
  },
  {
   "cell_type": "code",
   "execution_count": null,
   "id": "f37fdb43",
   "metadata": {},
   "outputs": [],
   "source": [
    "valormin"
   ]
  },
  {
   "cell_type": "code",
   "execution_count": null,
   "id": "be313428",
   "metadata": {},
   "outputs": [],
   "source": [
    "valoresabaixode0 = df_limpo [df_limpo['Quantity'] < 0]"
   ]
  },
  {
   "cell_type": "code",
   "execution_count": null,
   "id": "a82122b3",
   "metadata": {},
   "outputs": [],
   "source": [
    "valoresabaixode0"
   ]
  },
  {
   "cell_type": "code",
   "execution_count": 7,
   "id": "cf929393",
   "metadata": {},
   "outputs": [],
   "source": [
    "#identifiquei que há valores negativos no dataframe, que são devoluções (na aba quantidade), então trabalharei com dois df.\n",
    "\n",
    "df_vendas = df_limpo[df_limpo['Quantity'] > 0]\n",
    "df_devolucoes = df_limpo[df_limpo['Quantity'] < 0]"
   ]
  },
  {
   "cell_type": "code",
   "execution_count": 8,
   "id": "a207aba4",
   "metadata": {},
   "outputs": [
    {
     "data": {
      "text/html": [
       "<div>\n",
       "<style scoped>\n",
       "    .dataframe tbody tr th:only-of-type {\n",
       "        vertical-align: middle;\n",
       "    }\n",
       "\n",
       "    .dataframe tbody tr th {\n",
       "        vertical-align: top;\n",
       "    }\n",
       "\n",
       "    .dataframe thead th {\n",
       "        text-align: right;\n",
       "    }\n",
       "</style>\n",
       "<table border=\"1\" class=\"dataframe\">\n",
       "  <thead>\n",
       "    <tr style=\"text-align: right;\">\n",
       "      <th></th>\n",
       "      <th>InvoiceNo</th>\n",
       "      <th>StockCode</th>\n",
       "      <th>Description</th>\n",
       "      <th>Quantity</th>\n",
       "      <th>InvoiceDate</th>\n",
       "      <th>UnitPrice</th>\n",
       "      <th>CustomerID</th>\n",
       "      <th>Country</th>\n",
       "    </tr>\n",
       "  </thead>\n",
       "  <tbody>\n",
       "    <tr>\n",
       "      <th>0</th>\n",
       "      <td>536365</td>\n",
       "      <td>85123A</td>\n",
       "      <td>WHITE HANGING HEART T-LIGHT HOLDER</td>\n",
       "      <td>6</td>\n",
       "      <td>12/1/2010 8:26</td>\n",
       "      <td>2.55</td>\n",
       "      <td>17850.0</td>\n",
       "      <td>United Kingdom</td>\n",
       "    </tr>\n",
       "    <tr>\n",
       "      <th>1</th>\n",
       "      <td>536365</td>\n",
       "      <td>71053</td>\n",
       "      <td>WHITE METAL LANTERN</td>\n",
       "      <td>6</td>\n",
       "      <td>12/1/2010 8:26</td>\n",
       "      <td>3.39</td>\n",
       "      <td>17850.0</td>\n",
       "      <td>United Kingdom</td>\n",
       "    </tr>\n",
       "    <tr>\n",
       "      <th>2</th>\n",
       "      <td>536365</td>\n",
       "      <td>84406B</td>\n",
       "      <td>CREAM CUPID HEARTS COAT HANGER</td>\n",
       "      <td>8</td>\n",
       "      <td>12/1/2010 8:26</td>\n",
       "      <td>2.75</td>\n",
       "      <td>17850.0</td>\n",
       "      <td>United Kingdom</td>\n",
       "    </tr>\n",
       "    <tr>\n",
       "      <th>3</th>\n",
       "      <td>536365</td>\n",
       "      <td>84029G</td>\n",
       "      <td>KNITTED UNION FLAG HOT WATER BOTTLE</td>\n",
       "      <td>6</td>\n",
       "      <td>12/1/2010 8:26</td>\n",
       "      <td>3.39</td>\n",
       "      <td>17850.0</td>\n",
       "      <td>United Kingdom</td>\n",
       "    </tr>\n",
       "    <tr>\n",
       "      <th>4</th>\n",
       "      <td>536365</td>\n",
       "      <td>84029E</td>\n",
       "      <td>RED WOOLLY HOTTIE WHITE HEART.</td>\n",
       "      <td>6</td>\n",
       "      <td>12/1/2010 8:26</td>\n",
       "      <td>3.39</td>\n",
       "      <td>17850.0</td>\n",
       "      <td>United Kingdom</td>\n",
       "    </tr>\n",
       "  </tbody>\n",
       "</table>\n",
       "</div>"
      ],
      "text/plain": [
       "  InvoiceNo StockCode                          Description  Quantity  \\\n",
       "0    536365    85123A   WHITE HANGING HEART T-LIGHT HOLDER         6   \n",
       "1    536365     71053                  WHITE METAL LANTERN         6   \n",
       "2    536365    84406B       CREAM CUPID HEARTS COAT HANGER         8   \n",
       "3    536365    84029G  KNITTED UNION FLAG HOT WATER BOTTLE         6   \n",
       "4    536365    84029E       RED WOOLLY HOTTIE WHITE HEART.         6   \n",
       "\n",
       "      InvoiceDate  UnitPrice  CustomerID         Country  \n",
       "0  12/1/2010 8:26       2.55     17850.0  United Kingdom  \n",
       "1  12/1/2010 8:26       3.39     17850.0  United Kingdom  \n",
       "2  12/1/2010 8:26       2.75     17850.0  United Kingdom  \n",
       "3  12/1/2010 8:26       3.39     17850.0  United Kingdom  \n",
       "4  12/1/2010 8:26       3.39     17850.0  United Kingdom  "
      ]
     },
     "execution_count": 8,
     "metadata": {},
     "output_type": "execute_result"
    }
   ],
   "source": [
    "df_vendas.head()"
   ]
  },
  {
   "cell_type": "code",
   "execution_count": 18,
   "id": "9b4f2531",
   "metadata": {},
   "outputs": [],
   "source": [
    "#identificar putliers em UnitPrice no df_vendas\n",
    "#utilizando método IQR # Calculando Q1, Q3 e IQR\n",
    "# Q1 = df['coluna'].quantile(0.25)\n",
    "# Q3 = df['coluna'].quantile(0.75)\n",
    "# IQR = Q3 - Q1\n",
    "\n",
    "\n",
    "Q1 = df_vendas['UnitPrice'].quantile(0.25)\n",
    "Q3 = df_vendas['UnitPrice'].quantile(0.75)\n",
    "IQR = Q3 - Q1\n",
    "\n",
    "# Definindo limites inferior e superior\n",
    "limite_inferior = Q1 - 1.5 * IQR\n",
    "limite_superior = Q3 + 1.5 * IQR\n",
    "\n",
    "# Filtrando outliers\n",
    "df_parcial_vendas = df_vendas[(df_vendas['UnitPrice'] > limite_inferior) & (df_vendas['UnitPrice'] < limite_superior)]"
   ]
  },
  {
   "cell_type": "code",
   "execution_count": 19,
   "id": "6738b485",
   "metadata": {},
   "outputs": [
    {
     "data": {
      "text/html": [
       "<div>\n",
       "<style scoped>\n",
       "    .dataframe tbody tr th:only-of-type {\n",
       "        vertical-align: middle;\n",
       "    }\n",
       "\n",
       "    .dataframe tbody tr th {\n",
       "        vertical-align: top;\n",
       "    }\n",
       "\n",
       "    .dataframe thead th {\n",
       "        text-align: right;\n",
       "    }\n",
       "</style>\n",
       "<table border=\"1\" class=\"dataframe\">\n",
       "  <thead>\n",
       "    <tr style=\"text-align: right;\">\n",
       "      <th></th>\n",
       "      <th>Quantity</th>\n",
       "      <th>UnitPrice</th>\n",
       "      <th>CustomerID</th>\n",
       "    </tr>\n",
       "  </thead>\n",
       "  <tbody>\n",
       "    <tr>\n",
       "      <th>count</th>\n",
       "      <td>362980.000000</td>\n",
       "      <td>362980.000000</td>\n",
       "      <td>362980.000000</td>\n",
       "    </tr>\n",
       "    <tr>\n",
       "      <th>mean</th>\n",
       "      <td>13.977988</td>\n",
       "      <td>2.125971</td>\n",
       "      <td>15308.312957</td>\n",
       "    </tr>\n",
       "    <tr>\n",
       "      <th>std</th>\n",
       "      <td>188.859668</td>\n",
       "      <td>1.520801</td>\n",
       "      <td>1712.520144</td>\n",
       "    </tr>\n",
       "    <tr>\n",
       "      <th>min</th>\n",
       "      <td>1.000000</td>\n",
       "      <td>0.000000</td>\n",
       "      <td>12346.000000</td>\n",
       "    </tr>\n",
       "    <tr>\n",
       "      <th>25%</th>\n",
       "      <td>2.000000</td>\n",
       "      <td>0.850000</td>\n",
       "      <td>13975.000000</td>\n",
       "    </tr>\n",
       "    <tr>\n",
       "      <th>50%</th>\n",
       "      <td>6.000000</td>\n",
       "      <td>1.650000</td>\n",
       "      <td>15194.000000</td>\n",
       "    </tr>\n",
       "    <tr>\n",
       "      <th>75%</th>\n",
       "      <td>12.000000</td>\n",
       "      <td>2.950000</td>\n",
       "      <td>16809.000000</td>\n",
       "    </tr>\n",
       "    <tr>\n",
       "      <th>max</th>\n",
       "      <td>80995.000000</td>\n",
       "      <td>7.460000</td>\n",
       "      <td>18287.000000</td>\n",
       "    </tr>\n",
       "  </tbody>\n",
       "</table>\n",
       "</div>"
      ],
      "text/plain": [
       "            Quantity      UnitPrice     CustomerID\n",
       "count  362980.000000  362980.000000  362980.000000\n",
       "mean       13.977988       2.125971   15308.312957\n",
       "std       188.859668       1.520801    1712.520144\n",
       "min         1.000000       0.000000   12346.000000\n",
       "25%         2.000000       0.850000   13975.000000\n",
       "50%         6.000000       1.650000   15194.000000\n",
       "75%        12.000000       2.950000   16809.000000\n",
       "max     80995.000000       7.460000   18287.000000"
      ]
     },
     "execution_count": 19,
     "metadata": {},
     "output_type": "execute_result"
    }
   ],
   "source": [
    "df_parcial_vendas.describe()"
   ]
  },
  {
   "cell_type": "code",
   "execution_count": 29,
   "id": "d4df1121",
   "metadata": {},
   "outputs": [],
   "source": [
    "#parei exatamente aqui 21/08: 16h50\n",
    "\n",
    "#identificar outliers em Quantity\n",
    "#via std\n",
    "#confirmando o describe acima:\n",
    "\n",
    "media = df_parcial_vendas['Quantity'].mean()\n",
    "desvio_padrao = df_parcial_vendas['Quantity'].std()\n",
    "\n",
    "#limites\n",
    "limite_inf = (media - 3) * desvio_padrao\n",
    "limite_sup = (media + 3) * desvio_padrao\n",
    "\n",
    "# Filtrando outliers\n",
    "df_final_vendas = df_vendas[(df_vendas['Quantity'] > limite_inf) & (df_vendas['Quantity'] < limite_sup)]"
   ]
  },
  {
   "cell_type": "code",
   "execution_count": 27,
   "id": "3c394839",
   "metadata": {},
   "outputs": [
    {
     "data": {
      "text/plain": [
       "2073.299123877864"
      ]
     },
     "execution_count": 27,
     "metadata": {},
     "output_type": "execute_result"
    }
   ],
   "source": [
    "limite_inf"
   ]
  },
  {
   "cell_type": "code",
   "execution_count": 28,
   "id": "fdd40cb4",
   "metadata": {},
   "outputs": [
    {
     "data": {
      "text/plain": [
       "3206.4571311784057"
      ]
     },
     "execution_count": 28,
     "metadata": {},
     "output_type": "execute_result"
    }
   ],
   "source": [
    "limite_sup"
   ]
  },
  {
   "cell_type": "code",
   "execution_count": 17,
   "id": "371caf2c",
   "metadata": {},
   "outputs": [],
   "source": [
    "#moda = df_final['Quantity'].value_counts().index[0]"
   ]
  },
  {
   "cell_type": "code",
   "execution_count": null,
   "id": "ba14327b",
   "metadata": {},
   "outputs": [],
   "source": [
    "#print(moda)"
   ]
  },
  {
   "cell_type": "code",
   "execution_count": null,
   "id": "9e5f8e5c",
   "metadata": {},
   "outputs": [],
   "source": [
    "#df_final.info()"
   ]
  },
  {
   "cell_type": "code",
   "execution_count": 11,
   "id": "07748ea5",
   "metadata": {},
   "outputs": [],
   "source": [
    "# Certificando a coluna 'InvoiceDate' esteja no formato datetime\n",
    "df_final = df_final.copy()\n",
    "df_final['InvoiceDate'] = pd.to_datetime(df_final['InvoiceDate'])"
   ]
  },
  {
   "cell_type": "code",
   "execution_count": 12,
   "id": "9618f51c",
   "metadata": {},
   "outputs": [],
   "source": [
    "#Criar uma coluna de data sem horas:\n",
    "df_final['Data'] = df_final['InvoiceDate'].dt.date"
   ]
  },
  {
   "cell_type": "code",
   "execution_count": null,
   "id": "412a6907",
   "metadata": {},
   "outputs": [],
   "source": [
    "#verificando se há outliers\n",
    "teste2 = df_final[df_final['Quantity'] > 60000]\n",
    "print(teste2)"
   ]
  },
  {
   "cell_type": "code",
   "execution_count": null,
   "id": "201213e8",
   "metadata": {},
   "outputs": [],
   "source": [
    "#identifiquei que a coluna Quantidade possui outliers (85900)\n",
    "#Peguei 4 dias após as vendas da primeira data, somei e fiz a média \n",
    "#Peguei os 4 dias anteriores, somei a quantidade e fiz a media\n",
    "\n",
    "\n",
    "if df_final['Data'].dtype != 'datetime64[ns]':\n",
    "    df_final['Data'] = pd.to_datetime(vendas_diarias['Data'])\n",
    "\n",
    "# Strings de datas\n",
    "data_jan = '2011-01-18'\n",
    "data_dez = '2011-12-11'\n",
    "\n",
    "# Converter as strings para datetime\n",
    "data_jan = pd.to_datetime(data_jan)\n",
    "data_dez = pd.to_datetime(data_dez)\n",
    "\n",
    "#max: 33094\n",
    "#min: 10267\n",
    "\n",
    "# Filtrar o DataFrame\n",
    "verificar_out = df_final[(df_final['Data'] >= data_jan) & (df_final['Data'] <= data_dez)]\n",
    "\n",
    "# Exibir o resultado\n",
    "print(verificar_out)"
   ]
  },
  {
   "cell_type": "code",
   "execution_count": null,
   "id": "1e3c8205",
   "metadata": {},
   "outputs": [],
   "source": [
    "#Analisando quantas vendas são realizadas por dia\n",
    "vendas_diarias = df_final.groupby('Data')['Quantity'].sum().reset_index()"
   ]
  },
  {
   "cell_type": "code",
   "execution_count": null,
   "id": "db650033",
   "metadata": {},
   "outputs": [],
   "source": [
    "#alterar outliers de quantidade:\n",
    "\n",
    "df_final.loc[df_final['InvoiceDate'] == '2011-01-18 10:01:00', 'Quantity'] = 10267  # Alterar para 10267\n",
    "df_final.loc[df_final['InvoiceDate'] == '2011-12-09 09:15:00', 'Quantity'] = 33094  # Alterar para 20\n"
   ]
  },
  {
   "cell_type": "code",
   "execution_count": null,
   "id": "445ce21e",
   "metadata": {},
   "outputs": [],
   "source": [
    "teste2 = df_final[df_final['Quantity'] > 60000]\n",
    "print(teste2)"
   ]
  },
  {
   "cell_type": "code",
   "execution_count": null,
   "id": "85755db9",
   "metadata": {},
   "outputs": [],
   "source": [
    "df_final.head()"
   ]
  },
  {
   "cell_type": "code",
   "execution_count": null,
   "id": "bc10e6c8",
   "metadata": {},
   "outputs": [],
   "source": [
    "teste_out = df_final[(df_final['InvoiceDate']== '2011-12-09 09:15:00')]"
   ]
  },
  {
   "cell_type": "code",
   "execution_count": null,
   "id": "d3ea0c87",
   "metadata": {},
   "outputs": [],
   "source": [
    "teste_out"
   ]
  },
  {
   "cell_type": "code",
   "execution_count": null,
   "id": "ea795591",
   "metadata": {},
   "outputs": [],
   "source": [
    "# Plotar as vendas diárias\n",
    "plt.figure(figsize=(12,6))\n",
    "sns.lineplot(data=vendas_diarias, x='Data', y='Quantity')\n",
    "plt.title('Vendas Diárias')\n",
    "plt.show()"
   ]
  },
  {
   "cell_type": "code",
   "execution_count": null,
   "id": "3ac7ee7b",
   "metadata": {},
   "outputs": [],
   "source": []
  }
 ],
 "metadata": {
  "kernelspec": {
   "display_name": "Python 3 (ipykernel)",
   "language": "python",
   "name": "python3"
  },
  "language_info": {
   "codemirror_mode": {
    "name": "ipython",
    "version": 3
   },
   "file_extension": ".py",
   "mimetype": "text/x-python",
   "name": "python",
   "nbconvert_exporter": "python",
   "pygments_lexer": "ipython3",
   "version": "3.9.13"
  }
 },
 "nbformat": 4,
 "nbformat_minor": 5
}
