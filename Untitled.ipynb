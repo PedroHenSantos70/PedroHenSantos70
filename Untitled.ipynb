{
 "cells": [
  {
   "cell_type": "code",
   "execution_count": 2,
   "id": "28ed3917",
   "metadata": {},
   "outputs": [],
   "source": [
    "import pandas as pd \n",
    "import matplotlib.pyplot as plt\n",
    "import seaborn as sns"
   ]
  },
  {
   "cell_type": "code",
   "execution_count": 3,
   "id": "88e56599",
   "metadata": {},
   "outputs": [],
   "source": [
    "arquivo_leitura = pd.read_csv(\"C:/Users/Pedro Santos/OneDrive - SKA AUTOMACAO DE ENGENHARIAS LTDA/Área de Trabalho/TesteGIT/DataEcommerce.csv\", encoding='ISO-8859-1')"
   ]
  },
  {
   "cell_type": "code",
   "execution_count": null,
   "id": "d66b90b8",
   "metadata": {},
   "outputs": [],
   "source": [
    "arquivo_leitura.head()"
   ]
  },
  {
   "cell_type": "code",
   "execution_count": null,
   "id": "f985b274",
   "metadata": {},
   "outputs": [],
   "source": [
    "arquivo_leitura.isna().sum()"
   ]
  },
  {
   "cell_type": "code",
   "execution_count": null,
   "id": "5dd3c2bc",
   "metadata": {},
   "outputs": [],
   "source": [
    "moda = arquivo_leitura['CustomerID'].value_counts().index[0]"
   ]
  },
  {
   "cell_type": "code",
   "execution_count": null,
   "id": "4a5e3105",
   "metadata": {},
   "outputs": [],
   "source": [
    "print(moda)"
   ]
  },
  {
   "cell_type": "code",
   "execution_count": null,
   "id": "7d218f89",
   "metadata": {},
   "outputs": [],
   "source": [
    "teste = arquivo_leitura [arquivo_leitura['StockCode']== '85123A']"
   ]
  },
  {
   "cell_type": "code",
   "execution_count": null,
   "id": "4ad6d982",
   "metadata": {},
   "outputs": [],
   "source": [
    "teste"
   ]
  },
  {
   "cell_type": "code",
   "execution_count": null,
   "id": "97dd48d2",
   "metadata": {},
   "outputs": [],
   "source": [
    "teste2 = arquivo_leitura [arquivo_leitura['StockCode']== '71053']"
   ]
  },
  {
   "cell_type": "code",
   "execution_count": null,
   "id": "35bdfe5b",
   "metadata": {},
   "outputs": [],
   "source": [
    "teste2"
   ]
  },
  {
   "cell_type": "code",
   "execution_count": 4,
   "id": "6974c89f",
   "metadata": {},
   "outputs": [],
   "source": [
    "df_limpo = arquivo_leitura.dropna(subset=['Description'])  #Limpando dados em branco na coluna description"
   ]
  },
  {
   "cell_type": "code",
   "execution_count": null,
   "id": "21fcec73",
   "metadata": {},
   "outputs": [],
   "source": [
    "arquivo_leitura.isna().sum()"
   ]
  },
  {
   "cell_type": "code",
   "execution_count": 5,
   "id": "4066e92d",
   "metadata": {},
   "outputs": [
    {
     "data": {
      "text/plain": [
       "InvoiceNo           0\n",
       "StockCode           0\n",
       "Description         0\n",
       "Quantity            0\n",
       "InvoiceDate         0\n",
       "UnitPrice           0\n",
       "CustomerID     133626\n",
       "Country             0\n",
       "dtype: int64"
      ]
     },
     "execution_count": 5,
     "metadata": {},
     "output_type": "execute_result"
    }
   ],
   "source": [
    "df_limpo.isna().sum()"
   ]
  },
  {
   "cell_type": "code",
   "execution_count": null,
   "id": "2dc5397b",
   "metadata": {},
   "outputs": [],
   "source": [
    "identificar_null = df_limpo[df_limpo['CustomerID'].isnull()]"
   ]
  },
  {
   "cell_type": "code",
   "execution_count": null,
   "id": "e883b763",
   "metadata": {},
   "outputs": [],
   "source": [
    "identificar_null"
   ]
  },
  {
   "cell_type": "code",
   "execution_count": null,
   "id": "f8cb9113",
   "metadata": {},
   "outputs": [],
   "source": [
    "paises_diferentes = identificar_null [identificar_null['Country'] != 'United Kingdom']"
   ]
  },
  {
   "cell_type": "code",
   "execution_count": null,
   "id": "62957a5f",
   "metadata": {},
   "outputs": [],
   "source": [
    "paises_diferentes"
   ]
  },
  {
   "cell_type": "code",
   "execution_count": 6,
   "id": "bb487c83",
   "metadata": {},
   "outputs": [],
   "source": [
    "df_limpo = df_limpo.dropna(subset=['CustomerID'])"
   ]
  },
  {
   "cell_type": "code",
   "execution_count": 7,
   "id": "2191cfbe",
   "metadata": {},
   "outputs": [
    {
     "data": {
      "text/plain": [
       "InvoiceNo      0\n",
       "StockCode      0\n",
       "Description    0\n",
       "Quantity       0\n",
       "InvoiceDate    0\n",
       "UnitPrice      0\n",
       "CustomerID     0\n",
       "Country        0\n",
       "dtype: int64"
      ]
     },
     "execution_count": 7,
     "metadata": {},
     "output_type": "execute_result"
    }
   ],
   "source": [
    "df_limpo.isna().sum()"
   ]
  },
  {
   "cell_type": "code",
   "execution_count": null,
   "id": "3b90b9c5",
   "metadata": {},
   "outputs": [],
   "source": [
    "df_limpo.describe()"
   ]
  },
  {
   "cell_type": "code",
   "execution_count": null,
   "id": "af6f36c9",
   "metadata": {},
   "outputs": [],
   "source": [
    "valormin = df_limpo [df_limpo['Quantity']== -80995.000000]"
   ]
  },
  {
   "cell_type": "code",
   "execution_count": null,
   "id": "f37fdb43",
   "metadata": {},
   "outputs": [],
   "source": [
    "valormin"
   ]
  },
  {
   "cell_type": "code",
   "execution_count": null,
   "id": "be313428",
   "metadata": {},
   "outputs": [],
   "source": [
    "valoresabaixode0 = df_limpo [df_limpo['Quantity'] < 0]"
   ]
  },
  {
   "cell_type": "code",
   "execution_count": null,
   "id": "a82122b3",
   "metadata": {},
   "outputs": [],
   "source": [
    "valoresabaixode0"
   ]
  },
  {
   "cell_type": "code",
   "execution_count": 8,
   "id": "cf929393",
   "metadata": {},
   "outputs": [],
   "source": [
    "#identifiquei que há valores negativos no dataframe, que são devoluções (na aba quantidade), então trabalharei com dois df.\n",
    "\n",
    "df_vendas = df_limpo[df_limpo['Quantity'] > 0]\n",
    "df_devolucoes = df_limpo[df_limpo['Quantity'] < 0]"
   ]
  },
  {
   "cell_type": "code",
   "execution_count": 9,
   "id": "a207aba4",
   "metadata": {},
   "outputs": [
    {
     "data": {
      "text/html": [
       "<div>\n",
       "<style scoped>\n",
       "    .dataframe tbody tr th:only-of-type {\n",
       "        vertical-align: middle;\n",
       "    }\n",
       "\n",
       "    .dataframe tbody tr th {\n",
       "        vertical-align: top;\n",
       "    }\n",
       "\n",
       "    .dataframe thead th {\n",
       "        text-align: right;\n",
       "    }\n",
       "</style>\n",
       "<table border=\"1\" class=\"dataframe\">\n",
       "  <thead>\n",
       "    <tr style=\"text-align: right;\">\n",
       "      <th></th>\n",
       "      <th>InvoiceNo</th>\n",
       "      <th>StockCode</th>\n",
       "      <th>Description</th>\n",
       "      <th>Quantity</th>\n",
       "      <th>InvoiceDate</th>\n",
       "      <th>UnitPrice</th>\n",
       "      <th>CustomerID</th>\n",
       "      <th>Country</th>\n",
       "    </tr>\n",
       "  </thead>\n",
       "  <tbody>\n",
       "    <tr>\n",
       "      <th>0</th>\n",
       "      <td>536365</td>\n",
       "      <td>85123A</td>\n",
       "      <td>WHITE HANGING HEART T-LIGHT HOLDER</td>\n",
       "      <td>6</td>\n",
       "      <td>12/1/2010 8:26</td>\n",
       "      <td>2.55</td>\n",
       "      <td>17850.0</td>\n",
       "      <td>United Kingdom</td>\n",
       "    </tr>\n",
       "    <tr>\n",
       "      <th>1</th>\n",
       "      <td>536365</td>\n",
       "      <td>71053</td>\n",
       "      <td>WHITE METAL LANTERN</td>\n",
       "      <td>6</td>\n",
       "      <td>12/1/2010 8:26</td>\n",
       "      <td>3.39</td>\n",
       "      <td>17850.0</td>\n",
       "      <td>United Kingdom</td>\n",
       "    </tr>\n",
       "    <tr>\n",
       "      <th>2</th>\n",
       "      <td>536365</td>\n",
       "      <td>84406B</td>\n",
       "      <td>CREAM CUPID HEARTS COAT HANGER</td>\n",
       "      <td>8</td>\n",
       "      <td>12/1/2010 8:26</td>\n",
       "      <td>2.75</td>\n",
       "      <td>17850.0</td>\n",
       "      <td>United Kingdom</td>\n",
       "    </tr>\n",
       "    <tr>\n",
       "      <th>3</th>\n",
       "      <td>536365</td>\n",
       "      <td>84029G</td>\n",
       "      <td>KNITTED UNION FLAG HOT WATER BOTTLE</td>\n",
       "      <td>6</td>\n",
       "      <td>12/1/2010 8:26</td>\n",
       "      <td>3.39</td>\n",
       "      <td>17850.0</td>\n",
       "      <td>United Kingdom</td>\n",
       "    </tr>\n",
       "    <tr>\n",
       "      <th>4</th>\n",
       "      <td>536365</td>\n",
       "      <td>84029E</td>\n",
       "      <td>RED WOOLLY HOTTIE WHITE HEART.</td>\n",
       "      <td>6</td>\n",
       "      <td>12/1/2010 8:26</td>\n",
       "      <td>3.39</td>\n",
       "      <td>17850.0</td>\n",
       "      <td>United Kingdom</td>\n",
       "    </tr>\n",
       "  </tbody>\n",
       "</table>\n",
       "</div>"
      ],
      "text/plain": [
       "  InvoiceNo StockCode                          Description  Quantity  \\\n",
       "0    536365    85123A   WHITE HANGING HEART T-LIGHT HOLDER         6   \n",
       "1    536365     71053                  WHITE METAL LANTERN         6   \n",
       "2    536365    84406B       CREAM CUPID HEARTS COAT HANGER         8   \n",
       "3    536365    84029G  KNITTED UNION FLAG HOT WATER BOTTLE         6   \n",
       "4    536365    84029E       RED WOOLLY HOTTIE WHITE HEART.         6   \n",
       "\n",
       "      InvoiceDate  UnitPrice  CustomerID         Country  \n",
       "0  12/1/2010 8:26       2.55     17850.0  United Kingdom  \n",
       "1  12/1/2010 8:26       3.39     17850.0  United Kingdom  \n",
       "2  12/1/2010 8:26       2.75     17850.0  United Kingdom  \n",
       "3  12/1/2010 8:26       3.39     17850.0  United Kingdom  \n",
       "4  12/1/2010 8:26       3.39     17850.0  United Kingdom  "
      ]
     },
     "execution_count": 9,
     "metadata": {},
     "output_type": "execute_result"
    }
   ],
   "source": [
    "df_vendas.head()"
   ]
  },
  {
   "cell_type": "code",
   "execution_count": 17,
   "id": "9b4f2531",
   "metadata": {},
   "outputs": [],
   "source": [
    "#identificar outliers em UnitPrice no df_vendas\n",
    "#utilizando método IQR # Calculando Q1, Q3 e IQR\n",
    "# Q1 = df['coluna'].quantile(0.25)\n",
    "# Q3 = df['coluna'].quantile(0.75)\n",
    "# IQR = Q3 - Q1\n",
    "\n",
    "\n",
    "Q1 = df_vendas['UnitPrice'].quantile(0.25)\n",
    "Q3 = df_vendas['UnitPrice'].quantile(0.75)\n",
    "IQR = Q3 - Q1\n",
    "\n",
    "# Definindo limites inferior e superior\n",
    "limite_inferior = Q1 - 1.5 * IQR\n",
    "limite_superior = Q3 + 1.5 * IQR\n",
    "\n",
    "# Filtrando outliers\n",
    "df_parcial_vendas = df_vendas[(df_vendas['UnitPrice'] > limite_inferior) & (df_vendas['UnitPrice'] < limite_superior)]"
   ]
  },
  {
   "cell_type": "code",
   "execution_count": 34,
   "id": "6738b485",
   "metadata": {},
   "outputs": [
    {
     "data": {
      "text/html": [
       "<div>\n",
       "<style scoped>\n",
       "    .dataframe tbody tr th:only-of-type {\n",
       "        vertical-align: middle;\n",
       "    }\n",
       "\n",
       "    .dataframe tbody tr th {\n",
       "        vertical-align: top;\n",
       "    }\n",
       "\n",
       "    .dataframe thead th {\n",
       "        text-align: right;\n",
       "    }\n",
       "</style>\n",
       "<table border=\"1\" class=\"dataframe\">\n",
       "  <thead>\n",
       "    <tr style=\"text-align: right;\">\n",
       "      <th></th>\n",
       "      <th>InvoiceNo</th>\n",
       "      <th>StockCode</th>\n",
       "      <th>Description</th>\n",
       "      <th>Quantity</th>\n",
       "      <th>InvoiceDate</th>\n",
       "      <th>UnitPrice</th>\n",
       "      <th>CustomerID</th>\n",
       "      <th>Country</th>\n",
       "    </tr>\n",
       "  </thead>\n",
       "  <tbody>\n",
       "    <tr>\n",
       "      <th>0</th>\n",
       "      <td>536365</td>\n",
       "      <td>85123A</td>\n",
       "      <td>WHITE HANGING HEART T-LIGHT HOLDER</td>\n",
       "      <td>6</td>\n",
       "      <td>12/1/2010 8:26</td>\n",
       "      <td>2.55</td>\n",
       "      <td>17850.0</td>\n",
       "      <td>United Kingdom</td>\n",
       "    </tr>\n",
       "    <tr>\n",
       "      <th>1</th>\n",
       "      <td>536365</td>\n",
       "      <td>71053</td>\n",
       "      <td>WHITE METAL LANTERN</td>\n",
       "      <td>6</td>\n",
       "      <td>12/1/2010 8:26</td>\n",
       "      <td>3.39</td>\n",
       "      <td>17850.0</td>\n",
       "      <td>United Kingdom</td>\n",
       "    </tr>\n",
       "    <tr>\n",
       "      <th>2</th>\n",
       "      <td>536365</td>\n",
       "      <td>84406B</td>\n",
       "      <td>CREAM CUPID HEARTS COAT HANGER</td>\n",
       "      <td>8</td>\n",
       "      <td>12/1/2010 8:26</td>\n",
       "      <td>2.75</td>\n",
       "      <td>17850.0</td>\n",
       "      <td>United Kingdom</td>\n",
       "    </tr>\n",
       "    <tr>\n",
       "      <th>3</th>\n",
       "      <td>536365</td>\n",
       "      <td>84029G</td>\n",
       "      <td>KNITTED UNION FLAG HOT WATER BOTTLE</td>\n",
       "      <td>6</td>\n",
       "      <td>12/1/2010 8:26</td>\n",
       "      <td>3.39</td>\n",
       "      <td>17850.0</td>\n",
       "      <td>United Kingdom</td>\n",
       "    </tr>\n",
       "    <tr>\n",
       "      <th>4</th>\n",
       "      <td>536365</td>\n",
       "      <td>84029E</td>\n",
       "      <td>RED WOOLLY HOTTIE WHITE HEART.</td>\n",
       "      <td>6</td>\n",
       "      <td>12/1/2010 8:26</td>\n",
       "      <td>3.39</td>\n",
       "      <td>17850.0</td>\n",
       "      <td>United Kingdom</td>\n",
       "    </tr>\n",
       "    <tr>\n",
       "      <th>...</th>\n",
       "      <td>...</td>\n",
       "      <td>...</td>\n",
       "      <td>...</td>\n",
       "      <td>...</td>\n",
       "      <td>...</td>\n",
       "      <td>...</td>\n",
       "      <td>...</td>\n",
       "      <td>...</td>\n",
       "    </tr>\n",
       "    <tr>\n",
       "      <th>541904</th>\n",
       "      <td>581587</td>\n",
       "      <td>22613</td>\n",
       "      <td>PACK OF 20 SPACEBOY NAPKINS</td>\n",
       "      <td>12</td>\n",
       "      <td>12/9/2011 12:50</td>\n",
       "      <td>0.85</td>\n",
       "      <td>12680.0</td>\n",
       "      <td>France</td>\n",
       "    </tr>\n",
       "    <tr>\n",
       "      <th>541905</th>\n",
       "      <td>581587</td>\n",
       "      <td>22899</td>\n",
       "      <td>CHILDREN'S APRON DOLLY GIRL</td>\n",
       "      <td>6</td>\n",
       "      <td>12/9/2011 12:50</td>\n",
       "      <td>2.10</td>\n",
       "      <td>12680.0</td>\n",
       "      <td>France</td>\n",
       "    </tr>\n",
       "    <tr>\n",
       "      <th>541906</th>\n",
       "      <td>581587</td>\n",
       "      <td>23254</td>\n",
       "      <td>CHILDRENS CUTLERY DOLLY GIRL</td>\n",
       "      <td>4</td>\n",
       "      <td>12/9/2011 12:50</td>\n",
       "      <td>4.15</td>\n",
       "      <td>12680.0</td>\n",
       "      <td>France</td>\n",
       "    </tr>\n",
       "    <tr>\n",
       "      <th>541907</th>\n",
       "      <td>581587</td>\n",
       "      <td>23255</td>\n",
       "      <td>CHILDRENS CUTLERY CIRCUS PARADE</td>\n",
       "      <td>4</td>\n",
       "      <td>12/9/2011 12:50</td>\n",
       "      <td>4.15</td>\n",
       "      <td>12680.0</td>\n",
       "      <td>France</td>\n",
       "    </tr>\n",
       "    <tr>\n",
       "      <th>541908</th>\n",
       "      <td>581587</td>\n",
       "      <td>22138</td>\n",
       "      <td>BAKING SET 9 PIECE RETROSPOT</td>\n",
       "      <td>3</td>\n",
       "      <td>12/9/2011 12:50</td>\n",
       "      <td>4.95</td>\n",
       "      <td>12680.0</td>\n",
       "      <td>France</td>\n",
       "    </tr>\n",
       "  </tbody>\n",
       "</table>\n",
       "<p>362980 rows × 8 columns</p>\n",
       "</div>"
      ],
      "text/plain": [
       "       InvoiceNo StockCode                          Description  Quantity  \\\n",
       "0         536365    85123A   WHITE HANGING HEART T-LIGHT HOLDER         6   \n",
       "1         536365     71053                  WHITE METAL LANTERN         6   \n",
       "2         536365    84406B       CREAM CUPID HEARTS COAT HANGER         8   \n",
       "3         536365    84029G  KNITTED UNION FLAG HOT WATER BOTTLE         6   \n",
       "4         536365    84029E       RED WOOLLY HOTTIE WHITE HEART.         6   \n",
       "...          ...       ...                                  ...       ...   \n",
       "541904    581587     22613          PACK OF 20 SPACEBOY NAPKINS        12   \n",
       "541905    581587     22899         CHILDREN'S APRON DOLLY GIRL          6   \n",
       "541906    581587     23254        CHILDRENS CUTLERY DOLLY GIRL          4   \n",
       "541907    581587     23255      CHILDRENS CUTLERY CIRCUS PARADE         4   \n",
       "541908    581587     22138        BAKING SET 9 PIECE RETROSPOT          3   \n",
       "\n",
       "            InvoiceDate  UnitPrice  CustomerID         Country  \n",
       "0        12/1/2010 8:26       2.55     17850.0  United Kingdom  \n",
       "1        12/1/2010 8:26       3.39     17850.0  United Kingdom  \n",
       "2        12/1/2010 8:26       2.75     17850.0  United Kingdom  \n",
       "3        12/1/2010 8:26       3.39     17850.0  United Kingdom  \n",
       "4        12/1/2010 8:26       3.39     17850.0  United Kingdom  \n",
       "...                 ...        ...         ...             ...  \n",
       "541904  12/9/2011 12:50       0.85     12680.0          France  \n",
       "541905  12/9/2011 12:50       2.10     12680.0          France  \n",
       "541906  12/9/2011 12:50       4.15     12680.0          France  \n",
       "541907  12/9/2011 12:50       4.15     12680.0          France  \n",
       "541908  12/9/2011 12:50       4.95     12680.0          France  \n",
       "\n",
       "[362980 rows x 8 columns]"
      ]
     },
     "execution_count": 34,
     "metadata": {},
     "output_type": "execute_result"
    }
   ],
   "source": [
    "df_parcial_vendas"
   ]
  },
  {
   "cell_type": "code",
   "execution_count": 12,
   "id": "d4df1121",
   "metadata": {},
   "outputs": [],
   "source": [
    "#identificar outliers em Quantity\n",
    "#via std\n",
    "#confirmando o describe acima:\n",
    "\n",
    "#media = df_parcial_vendas['Quantity'].mean()\n",
    "#desvio_padrao = df_parcial_vendas['Quantity'].std()\n",
    "\n",
    "#limites\n",
    "#std_limite_inf = (media - 3) * desvio_padrao\n",
    "#std_limite_sup = (media + 3) * desvio_padrao\n",
    "\n",
    "# Filtrando outliers\n",
    "\n",
    "#df_final_vendas_teste = df_vendas[(df_vendas['Quantity'] > limite_inf) & (df_vendas['Quantity'] < limite_sup)]\n",
    "\n",
    "\n",
    "#infelizmente por std não funciona, pois reduz o df para poucos registros."
   ]
  },
  {
   "cell_type": "code",
   "execution_count": 30,
   "id": "191b456c",
   "metadata": {},
   "outputs": [],
   "source": [
    "#identificar outliers em UnitPrice no df_vendas\n",
    "#utilizando método IQR # Calculando Q1, Q3 e IQR\n",
    "# Q1 = df['coluna'].quantile(0.25)\n",
    "# Q3 = df['coluna'].quantile(0.75)\n",
    "# IQR = Q3 - Q1\n",
    "\n",
    "\n",
    "Q1 = df_vendas['Quantity'].quantile(0.10)\n",
    "Q3 = df_vendas['Quantity'].quantile(0.90)\n",
    "IQR = Q3 - Q1\n",
    "\n",
    "# Definindo limites inferior e superior\n",
    "limite_inferior_vendas = Q1 - 1.5 * IQR\n",
    "limite_superior_vendas = Q3 + 1.5 * IQR\n",
    "\n",
    "# Filtrando outliers\n",
    "df_final_vendas = df_vendas[(df_vendas['Quantity'] > limite_inferior) & (df_vendas['Quantity'] < limite_superior)]"
   ]
  },
  {
   "cell_type": "code",
   "execution_count": 33,
   "id": "e24dffcd",
   "metadata": {
    "scrolled": false
   },
   "outputs": [
    {
     "data": {
      "text/html": [
       "<div>\n",
       "<style scoped>\n",
       "    .dataframe tbody tr th:only-of-type {\n",
       "        vertical-align: middle;\n",
       "    }\n",
       "\n",
       "    .dataframe tbody tr th {\n",
       "        vertical-align: top;\n",
       "    }\n",
       "\n",
       "    .dataframe thead th {\n",
       "        text-align: right;\n",
       "    }\n",
       "</style>\n",
       "<table border=\"1\" class=\"dataframe\">\n",
       "  <thead>\n",
       "    <tr style=\"text-align: right;\">\n",
       "      <th></th>\n",
       "      <th>InvoiceNo</th>\n",
       "      <th>StockCode</th>\n",
       "      <th>Description</th>\n",
       "      <th>Quantity</th>\n",
       "      <th>InvoiceDate</th>\n",
       "      <th>UnitPrice</th>\n",
       "      <th>CustomerID</th>\n",
       "      <th>Country</th>\n",
       "    </tr>\n",
       "  </thead>\n",
       "  <tbody>\n",
       "    <tr>\n",
       "      <th>0</th>\n",
       "      <td>536365</td>\n",
       "      <td>85123A</td>\n",
       "      <td>WHITE HANGING HEART T-LIGHT HOLDER</td>\n",
       "      <td>6</td>\n",
       "      <td>12/1/2010 8:26</td>\n",
       "      <td>2.55</td>\n",
       "      <td>17850.0</td>\n",
       "      <td>United Kingdom</td>\n",
       "    </tr>\n",
       "    <tr>\n",
       "      <th>1</th>\n",
       "      <td>536365</td>\n",
       "      <td>71053</td>\n",
       "      <td>WHITE METAL LANTERN</td>\n",
       "      <td>6</td>\n",
       "      <td>12/1/2010 8:26</td>\n",
       "      <td>3.39</td>\n",
       "      <td>17850.0</td>\n",
       "      <td>United Kingdom</td>\n",
       "    </tr>\n",
       "    <tr>\n",
       "      <th>3</th>\n",
       "      <td>536365</td>\n",
       "      <td>84029G</td>\n",
       "      <td>KNITTED UNION FLAG HOT WATER BOTTLE</td>\n",
       "      <td>6</td>\n",
       "      <td>12/1/2010 8:26</td>\n",
       "      <td>3.39</td>\n",
       "      <td>17850.0</td>\n",
       "      <td>United Kingdom</td>\n",
       "    </tr>\n",
       "    <tr>\n",
       "      <th>4</th>\n",
       "      <td>536365</td>\n",
       "      <td>84029E</td>\n",
       "      <td>RED WOOLLY HOTTIE WHITE HEART.</td>\n",
       "      <td>6</td>\n",
       "      <td>12/1/2010 8:26</td>\n",
       "      <td>3.39</td>\n",
       "      <td>17850.0</td>\n",
       "      <td>United Kingdom</td>\n",
       "    </tr>\n",
       "    <tr>\n",
       "      <th>5</th>\n",
       "      <td>536365</td>\n",
       "      <td>22752</td>\n",
       "      <td>SET 7 BABUSHKA NESTING BOXES</td>\n",
       "      <td>2</td>\n",
       "      <td>12/1/2010 8:26</td>\n",
       "      <td>7.65</td>\n",
       "      <td>17850.0</td>\n",
       "      <td>United Kingdom</td>\n",
       "    </tr>\n",
       "    <tr>\n",
       "      <th>...</th>\n",
       "      <td>...</td>\n",
       "      <td>...</td>\n",
       "      <td>...</td>\n",
       "      <td>...</td>\n",
       "      <td>...</td>\n",
       "      <td>...</td>\n",
       "      <td>...</td>\n",
       "      <td>...</td>\n",
       "    </tr>\n",
       "    <tr>\n",
       "      <th>541903</th>\n",
       "      <td>581587</td>\n",
       "      <td>23256</td>\n",
       "      <td>CHILDRENS CUTLERY SPACEBOY</td>\n",
       "      <td>4</td>\n",
       "      <td>12/9/2011 12:50</td>\n",
       "      <td>4.15</td>\n",
       "      <td>12680.0</td>\n",
       "      <td>France</td>\n",
       "    </tr>\n",
       "    <tr>\n",
       "      <th>541905</th>\n",
       "      <td>581587</td>\n",
       "      <td>22899</td>\n",
       "      <td>CHILDREN'S APRON DOLLY GIRL</td>\n",
       "      <td>6</td>\n",
       "      <td>12/9/2011 12:50</td>\n",
       "      <td>2.10</td>\n",
       "      <td>12680.0</td>\n",
       "      <td>France</td>\n",
       "    </tr>\n",
       "    <tr>\n",
       "      <th>541906</th>\n",
       "      <td>581587</td>\n",
       "      <td>23254</td>\n",
       "      <td>CHILDRENS CUTLERY DOLLY GIRL</td>\n",
       "      <td>4</td>\n",
       "      <td>12/9/2011 12:50</td>\n",
       "      <td>4.15</td>\n",
       "      <td>12680.0</td>\n",
       "      <td>France</td>\n",
       "    </tr>\n",
       "    <tr>\n",
       "      <th>541907</th>\n",
       "      <td>581587</td>\n",
       "      <td>23255</td>\n",
       "      <td>CHILDRENS CUTLERY CIRCUS PARADE</td>\n",
       "      <td>4</td>\n",
       "      <td>12/9/2011 12:50</td>\n",
       "      <td>4.15</td>\n",
       "      <td>12680.0</td>\n",
       "      <td>France</td>\n",
       "    </tr>\n",
       "    <tr>\n",
       "      <th>541908</th>\n",
       "      <td>581587</td>\n",
       "      <td>22138</td>\n",
       "      <td>BAKING SET 9 PIECE RETROSPOT</td>\n",
       "      <td>3</td>\n",
       "      <td>12/9/2011 12:50</td>\n",
       "      <td>4.95</td>\n",
       "      <td>12680.0</td>\n",
       "      <td>France</td>\n",
       "    </tr>\n",
       "  </tbody>\n",
       "</table>\n",
       "<p>237585 rows × 8 columns</p>\n",
       "</div>"
      ],
      "text/plain": [
       "       InvoiceNo StockCode                          Description  Quantity  \\\n",
       "0         536365    85123A   WHITE HANGING HEART T-LIGHT HOLDER         6   \n",
       "1         536365     71053                  WHITE METAL LANTERN         6   \n",
       "3         536365    84029G  KNITTED UNION FLAG HOT WATER BOTTLE         6   \n",
       "4         536365    84029E       RED WOOLLY HOTTIE WHITE HEART.         6   \n",
       "5         536365     22752         SET 7 BABUSHKA NESTING BOXES         2   \n",
       "...          ...       ...                                  ...       ...   \n",
       "541903    581587     23256          CHILDRENS CUTLERY SPACEBOY          4   \n",
       "541905    581587     22899         CHILDREN'S APRON DOLLY GIRL          6   \n",
       "541906    581587     23254        CHILDRENS CUTLERY DOLLY GIRL          4   \n",
       "541907    581587     23255      CHILDRENS CUTLERY CIRCUS PARADE         4   \n",
       "541908    581587     22138        BAKING SET 9 PIECE RETROSPOT          3   \n",
       "\n",
       "            InvoiceDate  UnitPrice  CustomerID         Country  \n",
       "0        12/1/2010 8:26       2.55     17850.0  United Kingdom  \n",
       "1        12/1/2010 8:26       3.39     17850.0  United Kingdom  \n",
       "3        12/1/2010 8:26       3.39     17850.0  United Kingdom  \n",
       "4        12/1/2010 8:26       3.39     17850.0  United Kingdom  \n",
       "5        12/1/2010 8:26       7.65     17850.0  United Kingdom  \n",
       "...                 ...        ...         ...             ...  \n",
       "541903  12/9/2011 12:50       4.15     12680.0          France  \n",
       "541905  12/9/2011 12:50       2.10     12680.0          France  \n",
       "541906  12/9/2011 12:50       4.15     12680.0          France  \n",
       "541907  12/9/2011 12:50       4.15     12680.0          France  \n",
       "541908  12/9/2011 12:50       4.95     12680.0          France  \n",
       "\n",
       "[237585 rows x 8 columns]"
      ]
     },
     "execution_count": 33,
     "metadata": {},
     "output_type": "execute_result"
    }
   ],
   "source": [
    "df_final_vendas"
   ]
  },
  {
   "cell_type": "code",
   "execution_count": 17,
   "id": "371caf2c",
   "metadata": {},
   "outputs": [],
   "source": [
    "#moda = df_final['Quantity'].value_counts().index[0]"
   ]
  },
  {
   "cell_type": "code",
   "execution_count": null,
   "id": "ba14327b",
   "metadata": {},
   "outputs": [],
   "source": [
    "#print(moda)"
   ]
  },
  {
   "cell_type": "code",
   "execution_count": null,
   "id": "9e5f8e5c",
   "metadata": {},
   "outputs": [],
   "source": [
    "#df_final.info()"
   ]
  },
  {
   "cell_type": "code",
   "execution_count": 35,
   "id": "07748ea5",
   "metadata": {},
   "outputs": [],
   "source": [
    "# Certificando a coluna 'InvoiceDate' esteja no formato datetime\n",
    "df_final_vendas = df_final_vendas.copy()\n",
    "df_final_vendas['InvoiceDate'] = pd.to_datetime(df_final_vendas['InvoiceDate'])"
   ]
  },
  {
   "cell_type": "code",
   "execution_count": 37,
   "id": "9618f51c",
   "metadata": {},
   "outputs": [],
   "source": [
    "#Criar uma coluna de data sem horas:\n",
    "df_final_vendas['Data'] = df_final_vendas['InvoiceDate'].dt.date"
   ]
  },
  {
   "cell_type": "code",
   "execution_count": 38,
   "id": "316ca43e",
   "metadata": {},
   "outputs": [
    {
     "data": {
      "text/html": [
       "<div>\n",
       "<style scoped>\n",
       "    .dataframe tbody tr th:only-of-type {\n",
       "        vertical-align: middle;\n",
       "    }\n",
       "\n",
       "    .dataframe tbody tr th {\n",
       "        vertical-align: top;\n",
       "    }\n",
       "\n",
       "    .dataframe thead th {\n",
       "        text-align: right;\n",
       "    }\n",
       "</style>\n",
       "<table border=\"1\" class=\"dataframe\">\n",
       "  <thead>\n",
       "    <tr style=\"text-align: right;\">\n",
       "      <th></th>\n",
       "      <th>InvoiceNo</th>\n",
       "      <th>StockCode</th>\n",
       "      <th>Description</th>\n",
       "      <th>Quantity</th>\n",
       "      <th>InvoiceDate</th>\n",
       "      <th>UnitPrice</th>\n",
       "      <th>CustomerID</th>\n",
       "      <th>Country</th>\n",
       "      <th>Data</th>\n",
       "    </tr>\n",
       "  </thead>\n",
       "  <tbody>\n",
       "    <tr>\n",
       "      <th>0</th>\n",
       "      <td>536365</td>\n",
       "      <td>85123A</td>\n",
       "      <td>WHITE HANGING HEART T-LIGHT HOLDER</td>\n",
       "      <td>6</td>\n",
       "      <td>2010-12-01 08:26:00</td>\n",
       "      <td>2.55</td>\n",
       "      <td>17850.0</td>\n",
       "      <td>United Kingdom</td>\n",
       "      <td>2010-12-01</td>\n",
       "    </tr>\n",
       "    <tr>\n",
       "      <th>1</th>\n",
       "      <td>536365</td>\n",
       "      <td>71053</td>\n",
       "      <td>WHITE METAL LANTERN</td>\n",
       "      <td>6</td>\n",
       "      <td>2010-12-01 08:26:00</td>\n",
       "      <td>3.39</td>\n",
       "      <td>17850.0</td>\n",
       "      <td>United Kingdom</td>\n",
       "      <td>2010-12-01</td>\n",
       "    </tr>\n",
       "    <tr>\n",
       "      <th>3</th>\n",
       "      <td>536365</td>\n",
       "      <td>84029G</td>\n",
       "      <td>KNITTED UNION FLAG HOT WATER BOTTLE</td>\n",
       "      <td>6</td>\n",
       "      <td>2010-12-01 08:26:00</td>\n",
       "      <td>3.39</td>\n",
       "      <td>17850.0</td>\n",
       "      <td>United Kingdom</td>\n",
       "      <td>2010-12-01</td>\n",
       "    </tr>\n",
       "    <tr>\n",
       "      <th>4</th>\n",
       "      <td>536365</td>\n",
       "      <td>84029E</td>\n",
       "      <td>RED WOOLLY HOTTIE WHITE HEART.</td>\n",
       "      <td>6</td>\n",
       "      <td>2010-12-01 08:26:00</td>\n",
       "      <td>3.39</td>\n",
       "      <td>17850.0</td>\n",
       "      <td>United Kingdom</td>\n",
       "      <td>2010-12-01</td>\n",
       "    </tr>\n",
       "    <tr>\n",
       "      <th>5</th>\n",
       "      <td>536365</td>\n",
       "      <td>22752</td>\n",
       "      <td>SET 7 BABUSHKA NESTING BOXES</td>\n",
       "      <td>2</td>\n",
       "      <td>2010-12-01 08:26:00</td>\n",
       "      <td>7.65</td>\n",
       "      <td>17850.0</td>\n",
       "      <td>United Kingdom</td>\n",
       "      <td>2010-12-01</td>\n",
       "    </tr>\n",
       "  </tbody>\n",
       "</table>\n",
       "</div>"
      ],
      "text/plain": [
       "  InvoiceNo StockCode                          Description  Quantity  \\\n",
       "0    536365    85123A   WHITE HANGING HEART T-LIGHT HOLDER         6   \n",
       "1    536365     71053                  WHITE METAL LANTERN         6   \n",
       "3    536365    84029G  KNITTED UNION FLAG HOT WATER BOTTLE         6   \n",
       "4    536365    84029E       RED WOOLLY HOTTIE WHITE HEART.         6   \n",
       "5    536365     22752         SET 7 BABUSHKA NESTING BOXES         2   \n",
       "\n",
       "          InvoiceDate  UnitPrice  CustomerID         Country        Data  \n",
       "0 2010-12-01 08:26:00       2.55     17850.0  United Kingdom  2010-12-01  \n",
       "1 2010-12-01 08:26:00       3.39     17850.0  United Kingdom  2010-12-01  \n",
       "3 2010-12-01 08:26:00       3.39     17850.0  United Kingdom  2010-12-01  \n",
       "4 2010-12-01 08:26:00       3.39     17850.0  United Kingdom  2010-12-01  \n",
       "5 2010-12-01 08:26:00       7.65     17850.0  United Kingdom  2010-12-01  "
      ]
     },
     "execution_count": 38,
     "metadata": {},
     "output_type": "execute_result"
    }
   ],
   "source": [
    "df_final_vendas.head()"
   ]
  },
  {
   "cell_type": "code",
   "execution_count": null,
   "id": "201213e8",
   "metadata": {},
   "outputs": [],
   "source": [
    "#identifiquei que a coluna Quantidade possui outliers (85900)\n",
    "#Peguei 4 dias após as vendas da primeira data, somei e fiz a média \n",
    "#Peguei os 4 dias anteriores, somei a quantidade e fiz a media\n",
    "\n",
    "\n",
    "#if df_final['Data'].dtype != 'datetime64[ns]':\n",
    " #   df_final['Data'] = pd.to_datetime(vendas_diarias['Data'])\n",
    "\n",
    "# Strings de datas\n",
    "#data_jan = '2011-01-18'\n",
    "#data_dez = '2011-12-11'\n",
    "\n",
    "# Converter as strings para datetime\n",
    "#data_jan = pd.to_datetime(data_jan)\n",
    "#data_dez = pd.to_datetime(data_dez)\n",
    "\n",
    "#max: 33094\n",
    "#min: 10267\n",
    "\n",
    "# Filtrar o DataFrame\n",
    "#verificar_out = df_final[(df_final['Data'] >= data_jan) & (df_final['Data'] <= data_dez)]\n",
    "\n",
    "# Exibir o resultado\n",
    "#print(verificar_out)"
   ]
  },
  {
   "cell_type": "code",
   "execution_count": 40,
   "id": "1e3c8205",
   "metadata": {},
   "outputs": [],
   "source": [
    "#Analisando quantas vendas são realizadas por dia\n",
    "vendas_diarias = df_final_vendas.groupby('Data')['Quantity'].sum().reset_index()"
   ]
  },
  {
   "cell_type": "code",
   "execution_count": null,
   "id": "db650033",
   "metadata": {},
   "outputs": [],
   "source": [
    "#alterar outliers de quantidade:\n",
    "\n",
    "#df_final.loc[df_final['InvoiceDate'] == '2011-01-18 10:01:00', 'Quantity'] = 10267  # Alterar para 10267\n",
    "#df_final.loc[df_final['InvoiceDate'] == '2011-12-09 09:15:00', 'Quantity'] = 33094  # Alterar para 20\n"
   ]
  },
  {
   "cell_type": "code",
   "execution_count": 48,
   "id": "445ce21e",
   "metadata": {},
   "outputs": [
    {
     "name": "stdout",
     "output_type": "stream",
     "text": [
      "Empty DataFrame\n",
      "Columns: [InvoiceNo, StockCode, Description, Quantity, InvoiceDate, UnitPrice, CustomerID, Country, Data]\n",
      "Index: []\n"
     ]
    }
   ],
   "source": [
    "#não há valores abaixo de 0:\n",
    "teste2 = df_final_vendas[df_final_vendas['Quantity'] < 0]\n",
    "print(teste2)"
   ]
  },
  {
   "cell_type": "code",
   "execution_count": 59,
   "id": "ea795591",
   "metadata": {},
   "outputs": [
    {
     "data": {
      "image/png": "[encoded data removed]",
      "text/plain": [
       "<Figure size 1200x600 with 1 Axes>"
      ]
     },
     "metadata": {},
     "output_type": "display_data"
    }
   ],
   "source": [
    "#Análise de Distribuição das Vendas ao Longo do Tempo\n",
    "# Plotar as vendas diárias\n",
    "plt.figure(figsize=(12,6))\n",
    "sns.histplot(vendas_diarias['Quantity'], bins=20, kde=True, color='green')\n",
    "plt.title('Distribuição das Vendas Diárias')\n",
    "plt.show()"
   ]
  },
  {
   "cell_type": "code",
   "execution_count": 51,
   "id": "3ac7ee7b",
   "metadata": {},
   "outputs": [
    {
     "name": "stdout",
     "output_type": "stream",
     "text": [
      "Description\n",
      "WHITE HANGING HEART T-LIGHT HOLDER    5177\n",
      "NATURAL SLATE HEART CHALKBOARD        3588\n",
      "REGENCY CAKESTAND 3 TIER              3223\n",
      "WOODEN PICTURE FRAME WHITE FINISH     3137\n",
      "PARTY BUNTING                         3133\n",
      "SET OF 3 CAKE TINS PANTRY DESIGN      3095\n",
      "JAM MAKING SET WITH JARS              3087\n",
      "SPOTTY BUNTING                        2864\n",
      "WOODEN FRAME ANTIQUE WHITE            2824\n",
      "RECIPE BOX PANTRY YELLOW DESIGN       2739\n",
      "Name: Quantity, dtype: int64\n"
     ]
    }
   ],
   "source": [
    "#Analisando a Categoria de Produtos mais vendidos\n",
    "\n",
    "#agrupar e somar a qntde vendida por desc de produto\n",
    "\n",
    "top_produtos = df_final_vendas.groupby('Description')['Quantity'].sum()\n",
    "\n",
    "top_produtos = top_produtos.sort_values(ascending=False)\n",
    "\n",
    "\n",
    "# Selecionar os 10 primeiros produtos\n",
    "top_10_produtos = top_produtos.head(10)\n",
    "\n",
    "# Exibir o resultado\n",
    "print(top_10_produtos)"
   ]
  },
  {
   "cell_type": "code",
   "execution_count": 55,
   "id": "eba35ec2",
   "metadata": {},
   "outputs": [
    {
     "data": {
      "image/png": "[encoded data removed]",
      "text/plain": [
       "<Figure size 1200x600 with 1 Axes>"
      ]
     },
     "metadata": {},
     "output_type": "display_data"
    }
   ],
   "source": [
    "top_10_produtos.plot(kind ='barh', figsize=(12,6), color ='green')\n",
    "plt.title('Top 10 Produtos Mais Vendidos')\n",
    "plt.xlabel('Produto')\n",
    "plt.ylabel('Quantidade Vendida')\n",
    "plt.show()"
   ]
  },
  {
   "cell_type": "code",
   "execution_count": 65,
   "id": "e31531c0",
   "metadata": {},
   "outputs": [
    {
     "data": {
      "image/png": "[encoded data removed]",
      "text/plain": [
       "<Figure size 1200x600 with 1 Axes>"
      ]
     },
     "metadata": {},
     "output_type": "display_data"
    }
   ],
   "source": [
    "#identificando padrões de compra:\n",
    "#Criando coluna com hora para identificar as vendas por hora do df\n",
    "\n",
    "df_final_vendas['Horas'] = df_final_vendas['InvoiceDate'].dt.hour\n",
    "\n",
    "#Quantidade de vendas por hora:\n",
    "\n",
    "vendas_hora = df_final_vendas.groupby('Horas')['Quantity'].sum().reset_index()\n",
    "\n",
    "#Plotando vendas_hora\n",
    "\n",
    "plt.figure(figsize=(12, 6))\n",
    "sns.barplot(data=vendas_hora, x='Horas', y='Quantity')\n",
    "plt.title('Vendas por Hora do Dia')\n",
    "plt.show()\n"
   ]
  },
  {
   "cell_type": "code",
   "execution_count": 68,
   "id": "efd5f08b",
   "metadata": {},
   "outputs": [
    {
     "data": {
      "image/png": "[encoded data removed]",
      "text/plain": [
       "<Figure size 1200x600 with 1 Axes>"
      ]
     },
     "metadata": {},
     "output_type": "display_data"
    }
   ],
   "source": [
    "#Analisando por dia da semana que há mais vendas\n",
    "\n",
    "df_final_vendas['Dia_da_Semana'] = df_final_vendas['InvoiceDate'].dt.day_name()\n",
    "\n",
    "#vendas por dia da semana\n",
    "\n",
    "vendas_dias = df_final_vendas.groupby('Dia_da_Semana')['Quantity'].sum().reset_index()\n",
    "\n",
    "#Plotando as vendas por dia da semana:\n",
    "\n",
    "plt.figure(figsize=(12,6))\n",
    "sns.barplot(data=vendas_dias, x='Dia_da_Semana', y='Quantity', order = ['Friday', 'Tuesday', 'Wednesday', 'Thursday', 'Friday', \n",
    "'Saturday', 'Sunday'])\n",
    "plt.title('Vendas por Dia da Semana')\n",
    "plt.show()"
   ]
  },
  {
   "cell_type": "code",
   "execution_count": 67,
   "id": "60ed8f66",
   "metadata": {},
   "outputs": [
    {
     "data": {
      "text/html": [
       "<div>\n",
       "<style scoped>\n",
       "    .dataframe tbody tr th:only-of-type {\n",
       "        vertical-align: middle;\n",
       "    }\n",
       "\n",
       "    .dataframe tbody tr th {\n",
       "        vertical-align: top;\n",
       "    }\n",
       "\n",
       "    .dataframe thead th {\n",
       "        text-align: right;\n",
       "    }\n",
       "</style>\n",
       "<table border=\"1\" class=\"dataframe\">\n",
       "  <thead>\n",
       "    <tr style=\"text-align: right;\">\n",
       "      <th></th>\n",
       "      <th>Dia_da_Semana</th>\n",
       "      <th>Quantity</th>\n",
       "    </tr>\n",
       "  </thead>\n",
       "  <tbody>\n",
       "    <tr>\n",
       "      <th>0</th>\n",
       "      <td>Friday</td>\n",
       "      <td>88981</td>\n",
       "    </tr>\n",
       "    <tr>\n",
       "      <th>1</th>\n",
       "      <td>Monday</td>\n",
       "      <td>110490</td>\n",
       "    </tr>\n",
       "    <tr>\n",
       "      <th>2</th>\n",
       "      <td>Sunday</td>\n",
       "      <td>119751</td>\n",
       "    </tr>\n",
       "    <tr>\n",
       "      <th>3</th>\n",
       "      <td>Thursday</td>\n",
       "      <td>133525</td>\n",
       "    </tr>\n",
       "    <tr>\n",
       "      <th>4</th>\n",
       "      <td>Tuesday</td>\n",
       "      <td>110175</td>\n",
       "    </tr>\n",
       "    <tr>\n",
       "      <th>5</th>\n",
       "      <td>Wednesday</td>\n",
       "      <td>111945</td>\n",
       "    </tr>\n",
       "  </tbody>\n",
       "</table>\n",
       "</div>"
      ],
      "text/plain": [
       "  Dia_da_Semana  Quantity\n",
       "0        Friday     88981\n",
       "1        Monday    110490\n",
       "2        Sunday    119751\n",
       "3      Thursday    133525\n",
       "4       Tuesday    110175\n",
       "5     Wednesday    111945"
      ]
     },
     "execution_count": 67,
     "metadata": {},
     "output_type": "execute_result"
    }
   ],
   "source": [
    "vendas_dias"
   ]
  },
  {
   "cell_type": "code",
   "execution_count": 71,
   "id": "a8b7415c",
   "metadata": {},
   "outputs": [
    {
     "name": "stdout",
     "output_type": "stream",
     "text": [
      "Empty DataFrame\n",
      "Columns: [Dia_da_Semana, Quantity]\n",
      "Index: []\n"
     ]
    }
   ],
   "source": [
    "teste_sab = vendas_dias[vendas_dias['Dia_da_Semana']== 'Saturday']\n",
    "print(teste_sab)"
   ]
  },
  {
   "cell_type": "code",
   "execution_count": 72,
   "id": "32b73bcc",
   "metadata": {},
   "outputs": [
    {
     "data": {
      "text/html": [
       "<div>\n",
       "<style scoped>\n",
       "    .dataframe tbody tr th:only-of-type {\n",
       "        vertical-align: middle;\n",
       "    }\n",
       "\n",
       "    .dataframe tbody tr th {\n",
       "        vertical-align: top;\n",
       "    }\n",
       "\n",
       "    .dataframe thead th {\n",
       "        text-align: right;\n",
       "    }\n",
       "</style>\n",
       "<table border=\"1\" class=\"dataframe\">\n",
       "  <thead>\n",
       "    <tr style=\"text-align: right;\">\n",
       "      <th></th>\n",
       "      <th>InvoiceNo</th>\n",
       "      <th>StockCode</th>\n",
       "      <th>Description</th>\n",
       "      <th>Quantity</th>\n",
       "      <th>InvoiceDate</th>\n",
       "      <th>UnitPrice</th>\n",
       "      <th>CustomerID</th>\n",
       "      <th>Country</th>\n",
       "      <th>Data</th>\n",
       "      <th>Horas</th>\n",
       "      <th>Dia_da_Semana</th>\n",
       "    </tr>\n",
       "  </thead>\n",
       "  <tbody>\n",
       "    <tr>\n",
       "      <th>0</th>\n",
       "      <td>536365</td>\n",
       "      <td>85123A</td>\n",
       "      <td>WHITE HANGING HEART T-LIGHT HOLDER</td>\n",
       "      <td>6</td>\n",
       "      <td>2010-12-01 08:26:00</td>\n",
       "      <td>2.55</td>\n",
       "      <td>17850.0</td>\n",
       "      <td>United Kingdom</td>\n",
       "      <td>2010-12-01</td>\n",
       "      <td>8</td>\n",
       "      <td>Wednesday</td>\n",
       "    </tr>\n",
       "    <tr>\n",
       "      <th>1</th>\n",
       "      <td>536365</td>\n",
       "      <td>71053</td>\n",
       "      <td>WHITE METAL LANTERN</td>\n",
       "      <td>6</td>\n",
       "      <td>2010-12-01 08:26:00</td>\n",
       "      <td>3.39</td>\n",
       "      <td>17850.0</td>\n",
       "      <td>United Kingdom</td>\n",
       "      <td>2010-12-01</td>\n",
       "      <td>8</td>\n",
       "      <td>Wednesday</td>\n",
       "    </tr>\n",
       "    <tr>\n",
       "      <th>3</th>\n",
       "      <td>536365</td>\n",
       "      <td>84029G</td>\n",
       "      <td>KNITTED UNION FLAG HOT WATER BOTTLE</td>\n",
       "      <td>6</td>\n",
       "      <td>2010-12-01 08:26:00</td>\n",
       "      <td>3.39</td>\n",
       "      <td>17850.0</td>\n",
       "      <td>United Kingdom</td>\n",
       "      <td>2010-12-01</td>\n",
       "      <td>8</td>\n",
       "      <td>Wednesday</td>\n",
       "    </tr>\n",
       "    <tr>\n",
       "      <th>4</th>\n",
       "      <td>536365</td>\n",
       "      <td>84029E</td>\n",
       "      <td>RED WOOLLY HOTTIE WHITE HEART.</td>\n",
       "      <td>6</td>\n",
       "      <td>2010-12-01 08:26:00</td>\n",
       "      <td>3.39</td>\n",
       "      <td>17850.0</td>\n",
       "      <td>United Kingdom</td>\n",
       "      <td>2010-12-01</td>\n",
       "      <td>8</td>\n",
       "      <td>Wednesday</td>\n",
       "    </tr>\n",
       "    <tr>\n",
       "      <th>5</th>\n",
       "      <td>536365</td>\n",
       "      <td>22752</td>\n",
       "      <td>SET 7 BABUSHKA NESTING BOXES</td>\n",
       "      <td>2</td>\n",
       "      <td>2010-12-01 08:26:00</td>\n",
       "      <td>7.65</td>\n",
       "      <td>17850.0</td>\n",
       "      <td>United Kingdom</td>\n",
       "      <td>2010-12-01</td>\n",
       "      <td>8</td>\n",
       "      <td>Wednesday</td>\n",
       "    </tr>\n",
       "  </tbody>\n",
       "</table>\n",
       "</div>"
      ],
      "text/plain": [
       "  InvoiceNo StockCode                          Description  Quantity  \\\n",
       "0    536365    85123A   WHITE HANGING HEART T-LIGHT HOLDER         6   \n",
       "1    536365     71053                  WHITE METAL LANTERN         6   \n",
       "3    536365    84029G  KNITTED UNION FLAG HOT WATER BOTTLE         6   \n",
       "4    536365    84029E       RED WOOLLY HOTTIE WHITE HEART.         6   \n",
       "5    536365     22752         SET 7 BABUSHKA NESTING BOXES         2   \n",
       "\n",
       "          InvoiceDate  UnitPrice  CustomerID         Country        Data  \\\n",
       "0 2010-12-01 08:26:00       2.55     17850.0  United Kingdom  2010-12-01   \n",
       "1 2010-12-01 08:26:00       3.39     17850.0  United Kingdom  2010-12-01   \n",
       "3 2010-12-01 08:26:00       3.39     17850.0  United Kingdom  2010-12-01   \n",
       "4 2010-12-01 08:26:00       3.39     17850.0  United Kingdom  2010-12-01   \n",
       "5 2010-12-01 08:26:00       7.65     17850.0  United Kingdom  2010-12-01   \n",
       "\n",
       "   Horas Dia_da_Semana  \n",
       "0      8     Wednesday  \n",
       "1      8     Wednesday  \n",
       "3      8     Wednesday  \n",
       "4      8     Wednesday  \n",
       "5      8     Wednesday  "
      ]
     },
     "execution_count": 72,
     "metadata": {},
     "output_type": "execute_result"
    }
   ],
   "source": [
    "df_final_vendas.head()"
   ]
  },
  {
   "cell_type": "code",
   "execution_count": 73,
   "id": "dfbdd9ea",
   "metadata": {},
   "outputs": [],
   "source": [
    "df_final_vendas.to_csv('C:/Users/Pedro Santos/OneDrive - SKA AUTOMACAO DE ENGENHARIAS LTDA/Área de Trabalho/TesteGIT/df_ecommerce.csv', index=False)\n"
   ]
  },
  {
   "cell_type": "code",
   "execution_count": null,
   "id": "1d53f4ea",
   "metadata": {},
   "outputs": [],
   "source": []
  }
 ],
 "metadata": {
  "kernelspec": {
   "display_name": "Python 3 (ipykernel)",
   "language": "python",
   "name": "python3"
  },
  "language_info": {
   "codemirror_mode": {
    "name": "ipython",
    "version": 3
   },
   "file_extension": ".py",
   "mimetype": "text/x-python",
   "name": "python",
   "nbconvert_exporter": "python",
   "pygments_lexer": "ipython3",
   "version": "3.9.13"
  }
 },
 "nbformat": 4,
 "nbformat_minor": 5
}
